{
  "nbformat": 4,
  "nbformat_minor": 0,
  "metadata": {
    "colab": {
      "name": "Vector_Semantics.ipynb",
      "provenance": [],
      "collapsed_sections": []
    },
    "kernelspec": {
      "name": "python3",
      "display_name": "Python 3"
    }
  },
  "cells": [
    {
      "cell_type": "code",
      "metadata": {
        "id": "Bql1h24SpgXW",
        "colab_type": "code",
        "outputId": "59fd7472-fd98-4bd6-afb4-a7167cd36625",
        "colab": {
          "base_uri": "https://localhost:8080/",
          "height": 55
        }
      },
      "source": [
        "from google.colab import drive\n",
        "drive.mount('/content/drive')"
      ],
      "execution_count": 2,
      "outputs": [
        {
          "output_type": "stream",
          "text": [
            "Drive already mounted at /content/drive; to attempt to forcibly remount, call drive.mount(\"/content/drive\", force_remount=True).\n"
          ],
          "name": "stdout"
        }
      ]
    },
    {
      "cell_type": "code",
      "metadata": {
        "id": "7cMU7lQvpuCQ",
        "colab_type": "code",
        "colab": {}
      },
      "source": [
        "import gzip\n",
        "import gensim \n",
        "import logging\n",
        "import re\n",
        "import pandas as pd\n",
        "import os\n",
        "import gensim.downloader as api\n",
        "import string"
      ],
      "execution_count": 0,
      "outputs": []
    },
    {
      "cell_type": "markdown",
      "metadata": {
        "id": "aCGcLmxRaDL3",
        "colab_type": "text"
      },
      "source": [
        "### Donot run this"
      ]
    },
    {
      "cell_type": "code",
      "metadata": {
        "id": "iMLiT9Qwp9VZ",
        "colab_type": "code",
        "colab": {}
      },
      "source": [
        "os.getcwd()\n",
        "os.chdir('/content/drive/My Drive/NLP Assign 2')"
      ],
      "execution_count": 0,
      "outputs": []
    },
    {
      "cell_type": "markdown",
      "metadata": {
        "id": "85H-AWvyaRB7",
        "colab_type": "text"
      },
      "source": [
        "### Load the data into accessible form\n",
        "\n",
        "- Here the questions from the analogy set have been loaded into a list.[1]\n",
        "- The list is then separated depending upon the required categories.\n",
        "- A dictionary and a list has been created for training(**final**),desired labels(**target**). This is to run the model and calculate accuracies on the entire data and individual category sets."
      ]
    },
    {
      "cell_type": "code",
      "metadata": {
        "id": "uGWMoL0TIM0d",
        "colab_type": "code",
        "colab": {}
      },
      "source": [
        "f = open('word-test.v1.txt', 'r', encoding=\"utf8\")\n",
        "x = f.readlines()\n",
        "f.close()\n",
        "x.remove(x[0])\n",
        "new=[]\n",
        "for ele in x:\n",
        "    new.append(ele.strip().replace(\"\\t\", \"\"))\n",
        "splitted = []\n",
        "for item in new:\n",
        "    if ':' in item:\n",
        "        splitted.append([])\n",
        "    splitted[-1].append(item)"
      ],
      "execution_count": 0,
      "outputs": []
    },
    {
      "cell_type": "code",
      "metadata": {
        "id": "MbHAsfuTIQcD",
        "colab_type": "code",
        "colab": {}
      },
      "source": [
        "word_list=['capital-world', 'currency', 'city-in-state', 'family', 'gram1-adjective-to-adverb', 'gram2-opposite', 'gram3-comparative', 'gram6-nationality-adjective']\n",
        "word_list_dict={'capital-world':[], 'currency':[], 'city-in-state':[], 'family':[], 'gram1-adjective-to-adverb':[], 'gram2-opposite':[], 'gram3-comparative':[], 'gram6-nationality-adjective':[]}\n",
        "final_list=[]\n",
        "target_list=[]\n",
        "for i in range(len(splitted)):\n",
        "    key=splitted[i][0].replace(': ','')\n",
        "    splitted[i].remove(splitted[i][0])\n",
        "    if key in word_list:\n",
        "#         print(key)\n",
        "        for j in range(len(splitted[i])):\n",
        "            phrase=splitted[i][j].split()\n",
        "#             print(phrase)\n",
        "            word_list_dict[key].append(phrase)\n",
        "            final_list.append(phrase[:3])\n",
        "            target_list.append(str(phrase[3:4][0]))"
      ],
      "execution_count": 0,
      "outputs": []
    },
    {
      "cell_type": "code",
      "metadata": {
        "id": "kPfJbozFISV4",
        "colab_type": "code",
        "colab": {}
      },
      "source": [
        "final_dict={'capital-world':[], 'currency':[], 'city-in-state':[], 'family':[], 'gram1-adjective-to-adverb':[], 'gram2-opposite':[], 'gram3-comparative':[], 'gram6-nationality-adjective':[]}\n",
        "target_dict={'capital-world':[], 'currency':[], 'city-in-state':[], 'family':[], 'gram1-adjective-to-adverb':[], 'gram2-opposite':[], 'gram3-comparative':[], 'gram6-nationality-adjective':[]}\n",
        "for key in word_list_dict:\n",
        "    for i in range(len(word_list_dict[key])):\n",
        "        final_dict[key].append(word_list_dict[key][i][:3])\n",
        "        target_dict[key].append(str(word_list_dict[key][i][3:4][0]))\n",
        "  "
      ],
      "execution_count": 0,
      "outputs": []
    },
    {
      "cell_type": "markdown",
      "metadata": {
        "id": "fAjKqZ7Be1JE",
        "colab_type": "text"
      },
      "source": [
        "# Problem 7:"
      ]
    },
    {
      "cell_type": "markdown",
      "metadata": {
        "id": "EpeC-qrNHz_5",
        "colab_type": "text"
      },
      "source": [
        "## Word2vec\n",
        "- First choice is implementing Word2vec model using pretrained vectors from Google News Dataset.[2]\n",
        "- The model has been imported using the Gensim Library.[3]\n",
        "- The model has about 100 billion words, but due to memory constraints, the model has been trained on 50000 words.\n",
        "- The cosine similarity between the vectors has been calculated using Gensim's most_similar() function.[3]"
      ]
    },
    {
      "cell_type": "code",
      "metadata": {
        "id": "be5Je9CUqeoX",
        "colab_type": "code",
        "colab": {}
      },
      "source": [
        "def test_model(embed_model):\n",
        "  model=embed_model\n",
        "  pred=[]\n",
        "  for i in range(len(final_list)):\n",
        "      if final_list[i][0] in model.vocab and final_list[i][2] in model.vocab and final_list[i][1] in model.vocab :\n",
        "          pred.append(model.most_similar(positive=[final_list[i][0], final_list[i][2]], negative=[final_list[i][1]], topn=1)[0][0])\n",
        "      else:\n",
        "          pred.append('NO MATCHING PHRASE FOUND')\n",
        "  pred_dict={'capital-world':[], 'currency':[], 'city-in-state':[], 'family':[], 'gram1-adjective-to-adverb':[], 'gram2-opposite':[], 'gram3-comparative':[], 'gram6-nationality-adjective':[]}\n",
        "  for word in word_list:\n",
        "    for i in range(len(final_dict[word])):\n",
        "      if final_dict[word][i][0] in model.vocab and final_dict[word][i][2] in model.vocab and final_dict[word][i][1] in model.vocab :\n",
        "          pred_dict[word].append(model.most_similar(positive=[final_dict[word][i][0], final_dict[word][i][2]], negative=[final_dict[word][i][1]], topn=1)[0][0])\n",
        "      else:\n",
        "          pred_dict[word].append('NO MATCHING PHRASE FOUND')\n",
        "  return pred,pred_dict"
      ],
      "execution_count": 0,
      "outputs": []
    },
    {
      "cell_type": "code",
      "metadata": {
        "id": "IcN3v84tq50N",
        "colab_type": "code",
        "colab": {}
      },
      "source": [
        "def total_accuracy(pred):\n",
        "    correct1=0\n",
        "    translator=str.maketrans('','',string.punctuation)\n",
        "    for i in range(len(target_list)):\n",
        "      a=target_list[i]\n",
        "      b=pred[i]\n",
        "      if a==b or a in b:\n",
        "          correct1+=1\n",
        "    accuracy1=100*correct1/len(pred)\n",
        "    accuracy2=100*correct1/(len(pred)-pred.count('NO MATCHING PHRASE FOUND'))\n",
        "    return accuracy1, accuracy2\n"
      ],
      "execution_count": 0,
      "outputs": []
    },
    {
      "cell_type": "code",
      "metadata": {
        "id": "cA6X3HhPLsHu",
        "colab_type": "code",
        "colab": {}
      },
      "source": [
        "def sep_accuracy(pred_dict):\n",
        "  accuracy1={'capital-world':[], 'currency':[], 'city-in-state':[], 'family':[], 'gram1-adjective-to-adverb':[], 'gram2-opposite':[], 'gram3-comparative':[], 'gram6-nationality-adjective':[]}\n",
        "  accuracy2={'capital-world':[], 'currency':[], 'city-in-state':[], 'family':[], 'gram1-adjective-to-adverb':[], 'gram2-opposite':[], 'gram3-comparative':[], 'gram6-nationality-adjective':[]}\n",
        "  for word in word_list:\n",
        "    correct1=0\n",
        "    not_found='NO MATCHING PHRASE FOUND'\n",
        "    translator=str.maketrans('','',string.punctuation)\n",
        "    for i in range(len(target_dict[word])):\n",
        "      a=target_dict[word][i]\n",
        "      b=pred_dict[word][i]\n",
        "      if a==b or a in b:\n",
        "    #       print(b)\n",
        "          correct1+=1\n",
        "    try:\n",
        "      accuracy1[word]=100*correct1/len(pred_dict[word])\n",
        "    except:\n",
        "      accuracy1[word]=0\n",
        "    try:\n",
        "      accuracy2[word]=100*correct1/(len(pred_dict[word])-pred_dict[word].count(not_found))\n",
        "    except:\n",
        "      accuracy2[word]=0\n",
        "    \n",
        "  return accuracy1,accuracy2"
      ],
      "execution_count": 0,
      "outputs": []
    },
    {
      "cell_type": "code",
      "metadata": {
        "id": "RgY0ueMvpwvE",
        "colab_type": "code",
        "outputId": "d58a98fd-053a-41d4-b5e7-246038385c76",
        "colab": {
          "base_uri": "https://localhost:8080/",
          "height": 72
        }
      },
      "source": [
        "model = gensim.models.KeyedVectors.load_word2vec_format('GoogleNews-vectors-negative300.bin', binary=True, limit=50000)  "
      ],
      "execution_count": 11,
      "outputs": [
        {
          "output_type": "stream",
          "text": [
            "/usr/local/lib/python3.6/dist-packages/smart_open/smart_open_lib.py:398: UserWarning: This function is deprecated, use smart_open.open instead. See the migration notes for details: https://github.com/RaRe-Technologies/smart_open/blob/master/README.rst#migrating-to-the-new-open-function\n",
            "  'See the migration notes for details: %s' % _MIGRATION_NOTES_URL\n"
          ],
          "name": "stderr"
        }
      ]
    },
    {
      "cell_type": "markdown",
      "metadata": {
        "id": "cBsHOOehsTaY",
        "colab_type": "text"
      },
      "source": [
        "### Train model"
      ]
    },
    {
      "cell_type": "code",
      "metadata": {
        "id": "LoPslEGgVS1l",
        "colab_type": "code",
        "colab": {
          "base_uri": "https://localhost:8080/",
          "height": 72
        },
        "outputId": "736ef884-7c2d-4f64-d49c-08c2df25d7d1"
      },
      "source": [
        "pred,pred_dict=test_model(model)"
      ],
      "execution_count": 12,
      "outputs": [
        {
          "output_type": "stream",
          "text": [
            "/usr/local/lib/python3.6/dist-packages/gensim/matutils.py:737: FutureWarning: Conversion of the second argument of issubdtype from `int` to `np.signedinteger` is deprecated. In future, it will be treated as `np.int64 == np.dtype(int).type`.\n",
            "  if np.issubdtype(vec.dtype, np.int):\n"
          ],
          "name": "stderr"
        }
      ]
    },
    {
      "cell_type": "markdown",
      "metadata": {
        "id": "pQiBX2-riVWU",
        "colab_type": "text"
      },
      "source": [
        "### Accuracies\n",
        "- Accuracy1 describes accuracy when the model does not predict the word due to lack of vocabulary. Instead the model names this as **NO MATCHING PHRASE FOUND**\n",
        "- Accuracy2 described the accuracy of the word embedding model to detect correct words after excluding the words which are not found in its vocabulary.\n",
        "- Thus ideally Accuracy2>=Accuracy1\n",
        "- The accuracies of separate categories are higher than when the entire set has been considered for training."
      ]
    },
    {
      "cell_type": "code",
      "metadata": {
        "id": "2MdmX9o2MtdJ",
        "colab_type": "code",
        "colab": {
          "base_uri": "https://localhost:8080/",
          "height": 104
        },
        "outputId": "d2502973-f1c2-4305-d059-b36cf6b0292c"
      },
      "source": [
        "Accuracy1, Accuracy2=total_accuracy(pred)\n",
        "print(\"COMBINED ACCURACY\")\n",
        "print()\n",
        "print(\"Accuracy1\",Accuracy1)\n",
        "print()\n",
        "print(\"Accuracy2\",Accuracy2)"
      ],
      "execution_count": 13,
      "outputs": [
        {
          "output_type": "stream",
          "text": [
            "COMBINED ACCURACY\n",
            "\n",
            "Accuracy1 1.427698885326004\n",
            "\n",
            "Accuracy2 1.8790192926045015\n"
          ],
          "name": "stdout"
        }
      ]
    },
    {
      "cell_type": "code",
      "metadata": {
        "id": "WLRIPNjJPLBj",
        "colab_type": "code",
        "colab": {
          "base_uri": "https://localhost:8080/",
          "height": 124
        },
        "outputId": "1243b252-b8ad-444b-d4e6-20a855ee2988"
      },
      "source": [
        "Accuracy1, Accuracy2=sep_accuracy(pred_dict)\n",
        "print(\"SEPARATE ACCURACIES\")\n",
        "print()\n",
        "print(\"Accuracy1\",Accuracy1)\n",
        "print()\n",
        "print(\"Accuracy2\",Accuracy2)"
      ],
      "execution_count": 14,
      "outputs": [
        {
          "output_type": "stream",
          "text": [
            "SEPARATE ACCURACIES\n",
            "\n",
            "Accuracy1 {'capital-world': 2.4314765694076037, 'currency': 0.0, 'city-in-state': 1.053911633563032, 'family': 5.138339920948616, 'gram1-adjective-to-adverb': 0.3024193548387097, 'gram2-opposite': 1.1083743842364533, 'gram3-comparative': 0.07507507507507508, 'gram6-nationality-adjective': 0.7504690431519699}\n",
            "\n",
            "Accuracy2 {'capital-world': 5.132991133924405, 'currency': 0.0, 'city-in-state': 1.086048454469507, 'family': 5.895691609977324, 'gram1-adjective-to-adverb': 0.3024193548387097, 'gram2-opposite': 1.1904761904761905, 'gram3-comparative': 0.07507507507507508, 'gram6-nationality-adjective': 0.7889546351084813}\n"
          ],
          "name": "stdout"
        }
      ]
    },
    {
      "cell_type": "markdown",
      "metadata": {
        "id": "tfDU8RYNiR_r",
        "colab_type": "text"
      },
      "source": [
        "## GloVe\n",
        "\n",
        "- Glove is a model representing distributed words. The glove twitter word vectors have been used for training.[4]"
      ]
    },
    {
      "cell_type": "code",
      "metadata": {
        "id": "lKAxP2EXTxX9",
        "colab_type": "code",
        "outputId": "9b27f385-d032-4332-8aed-5870029c71bb",
        "colab": {
          "base_uri": "https://localhost:8080/",
          "height": 72
        }
      },
      "source": [
        "model1 = api.load(\"glove-twitter-25\")"
      ],
      "execution_count": 15,
      "outputs": [
        {
          "output_type": "stream",
          "text": [
            "/usr/local/lib/python3.6/dist-packages/smart_open/smart_open_lib.py:398: UserWarning: This function is deprecated, use smart_open.open instead. See the migration notes for details: https://github.com/RaRe-Technologies/smart_open/blob/master/README.rst#migrating-to-the-new-open-function\n",
            "  'See the migration notes for details: %s' % _MIGRATION_NOTES_URL\n"
          ],
          "name": "stderr"
        }
      ]
    },
    {
      "cell_type": "code",
      "metadata": {
        "id": "slamO8fiZeVE",
        "colab_type": "code",
        "colab": {
          "base_uri": "https://localhost:8080/",
          "height": 72
        },
        "outputId": "143e6828-0a1f-4794-ddaa-09501de52bee"
      },
      "source": [
        "pred,pred_dict=test_model(model1)"
      ],
      "execution_count": 18,
      "outputs": [
        {
          "output_type": "stream",
          "text": [
            "/usr/local/lib/python3.6/dist-packages/gensim/matutils.py:737: FutureWarning: Conversion of the second argument of issubdtype from `int` to `np.signedinteger` is deprecated. In future, it will be treated as `np.int64 == np.dtype(int).type`.\n",
            "  if np.issubdtype(vec.dtype, np.int):\n"
          ],
          "name": "stderr"
        }
      ]
    },
    {
      "cell_type": "code",
      "metadata": {
        "id": "pg2w8gBQZmU8",
        "colab_type": "code",
        "colab": {
          "base_uri": "https://localhost:8080/",
          "height": 104
        },
        "outputId": "dfc0ddef-c918-47eb-ed9d-56bf956a1455"
      },
      "source": [
        "Accuracy1, Accuracy2=total_accuracy(pred)\n",
        "print(\"COMBINED ACCURACY\")\n",
        "print()\n",
        "print(\"Accuracy1\",Accuracy1)\n",
        "print()\n",
        "print(\"Accuracy2\",Accuracy2)"
      ],
      "execution_count": 16,
      "outputs": [
        {
          "output_type": "stream",
          "text": [
            "COMBINED ACCURACY\n",
            "\n",
            "Accuracy1 1.427698885326004\n",
            "\n",
            "Accuracy2 1.8790192926045015\n"
          ],
          "name": "stdout"
        }
      ]
    },
    {
      "cell_type": "code",
      "metadata": {
        "id": "wDnUB_nQZowJ",
        "colab_type": "code",
        "colab": {
          "base_uri": "https://localhost:8080/",
          "height": 124
        },
        "outputId": "f36f8a7b-0afc-4b58-cc30-f7f3c5abb31f"
      },
      "source": [
        "Accuracy1, Accuracy2=sep_accuracy(pred_dict)\n",
        "print(\"SEPARATE ACCURACIES\")\n",
        "print()\n",
        "print(\"Accuracy1\",Accuracy1)\n",
        "print()\n",
        "print(\"Accuracy2\",Accuracy2)"
      ],
      "execution_count": 17,
      "outputs": [
        {
          "output_type": "stream",
          "text": [
            "SEPARATE ACCURACIES\n",
            "\n",
            "Accuracy1 {'capital-world': 2.4314765694076037, 'currency': 0.0, 'city-in-state': 1.053911633563032, 'family': 5.138339920948616, 'gram1-adjective-to-adverb': 0.3024193548387097, 'gram2-opposite': 1.1083743842364533, 'gram3-comparative': 0.07507507507507508, 'gram6-nationality-adjective': 0.7504690431519699}\n",
            "\n",
            "Accuracy2 {'capital-world': 5.132991133924405, 'currency': 0.0, 'city-in-state': 1.086048454469507, 'family': 5.895691609977324, 'gram1-adjective-to-adverb': 0.3024193548387097, 'gram2-opposite': 1.1904761904761905, 'gram3-comparative': 0.07507507507507508, 'gram6-nationality-adjective': 0.7889546351084813}\n"
          ],
          "name": "stdout"
        }
      ]
    },
    {
      "cell_type": "markdown",
      "metadata": {
        "id": "Hrv05IWteujo",
        "colab_type": "text"
      },
      "source": [
        "# Problem 8:"
      ]
    },
    {
      "cell_type": "markdown",
      "metadata": {
        "id": "d3HWIT4ZgJS2",
        "colab_type": "text"
      },
      "source": [
        "- The model trained from words of Google News dataset has been used to find similar words of the following:\n",
        "  - increase, above, maximum, before, agree\n",
        "- It is observed that its antonym appears in the top ten list of similar words.\n",
        "- This is because word embeddings donot take the context of the antonym in consideration. The models are trained on the word distributions over a large amount of data, the data which consists of antonyms having similar semantic context.\n",
        "- For example the pair 'increase' and 'decrease' even though being antonyms, might be used in a similar semantic textual context"
      ]
    },
    {
      "cell_type": "markdown",
      "metadata": {
        "id": "UEofUbaNlZZ3",
        "colab_type": "text"
      },
      "source": [
        "### Word2vec"
      ]
    },
    {
      "cell_type": "code",
      "metadata": {
        "id": "3U6EsVCYfAt-",
        "colab_type": "code",
        "colab": {
          "base_uri": "https://localhost:8080/",
          "height": 245
        },
        "outputId": "6d62b1d0-e5c2-4b16-dec3-ed5eaee26e13"
      },
      "source": [
        "model.most_similar('increase')"
      ],
      "execution_count": 18,
      "outputs": [
        {
          "output_type": "stream",
          "text": [
            "/usr/local/lib/python3.6/dist-packages/gensim/matutils.py:737: FutureWarning: Conversion of the second argument of issubdtype from `int` to `np.signedinteger` is deprecated. In future, it will be treated as `np.int64 == np.dtype(int).type`.\n",
            "  if np.issubdtype(vec.dtype, np.int):\n"
          ],
          "name": "stderr"
        },
        {
          "output_type": "execute_result",
          "data": {
            "text/plain": [
              "[('decrease', 0.8370318412780762),\n",
              " ('increases', 0.7709376811981201),\n",
              " ('increased', 0.7578041553497314),\n",
              " ('reduction', 0.6908220648765564),\n",
              " ('increasing', 0.6871616244316101),\n",
              " ('decreases', 0.681617259979248),\n",
              " ('rise', 0.6352647542953491),\n",
              " ('decreasing', 0.621862530708313),\n",
              " ('decline', 0.6128641366958618),\n",
              " ('uptick', 0.5923734903335571)]"
            ]
          },
          "metadata": {
            "tags": []
          },
          "execution_count": 18
        }
      ]
    },
    {
      "cell_type": "code",
      "metadata": {
        "id": "LiH0mqQzfL6u",
        "colab_type": "code",
        "colab": {
          "base_uri": "https://localhost:8080/",
          "height": 245
        },
        "outputId": "324ec336-c060-4144-924b-bb00a83e448d"
      },
      "source": [
        "model.most_similar('above')"
      ],
      "execution_count": 19,
      "outputs": [
        {
          "output_type": "stream",
          "text": [
            "/usr/local/lib/python3.6/dist-packages/gensim/matutils.py:737: FutureWarning: Conversion of the second argument of issubdtype from `int` to `np.signedinteger` is deprecated. In future, it will be treated as `np.int64 == np.dtype(int).type`.\n",
            "  if np.issubdtype(vec.dtype, np.int):\n"
          ],
          "name": "stderr"
        },
        {
          "output_type": "execute_result",
          "data": {
            "text/plain": [
              "[('below', 0.8064708709716797),\n",
              " ('Above', 0.5198284387588501),\n",
              " ('beyond', 0.4812318682670593),\n",
              " ('beneath', 0.45852547883987427),\n",
              " ('hover', 0.432657390832901),\n",
              " ('hovering', 0.42778879404067993),\n",
              " ('elevated', 0.42664289474487305),\n",
              " ('skyward', 0.4200187921524048),\n",
              " ('exceeds', 0.419230580329895),\n",
              " ('lower', 0.4161628782749176)]"
            ]
          },
          "metadata": {
            "tags": []
          },
          "execution_count": 19
        }
      ]
    },
    {
      "cell_type": "code",
      "metadata": {
        "id": "JKE_M3Qofbvk",
        "colab_type": "code",
        "colab": {
          "base_uri": "https://localhost:8080/",
          "height": 245
        },
        "outputId": "4f12515e-cd70-4207-fbf2-b905a34ae2f5"
      },
      "source": [
        "model.most_similar('maximum')"
      ],
      "execution_count": 20,
      "outputs": [
        {
          "output_type": "stream",
          "text": [
            "/usr/local/lib/python3.6/dist-packages/gensim/matutils.py:737: FutureWarning: Conversion of the second argument of issubdtype from `int` to `np.signedinteger` is deprecated. In future, it will be treated as `np.int64 == np.dtype(int).type`.\n",
            "  if np.issubdtype(vec.dtype, np.int):\n"
          ],
          "name": "stderr"
        },
        {
          "output_type": "execute_result",
          "data": {
            "text/plain": [
              "[('minimum', 0.6927940845489502),\n",
              " ('Maximum', 0.6223057508468628),\n",
              " ('max', 0.5242857933044434),\n",
              " ('optimum', 0.5091618299484253),\n",
              " ('limit', 0.49965229630470276),\n",
              " ('exceeds', 0.48546966910362244),\n",
              " ('Minimum', 0.4671606719493866),\n",
              " ('exceed', 0.45736148953437805),\n",
              " ('maximum_sentence', 0.45702826976776123),\n",
              " ('allowable', 0.4569830298423767)]"
            ]
          },
          "metadata": {
            "tags": []
          },
          "execution_count": 20
        }
      ]
    },
    {
      "cell_type": "code",
      "metadata": {
        "id": "za4hcpT9fsyl",
        "colab_type": "code",
        "colab": {
          "base_uri": "https://localhost:8080/",
          "height": 245
        },
        "outputId": "7e41c284-111c-4956-a46a-37aab8d8cdc0"
      },
      "source": [
        "model.most_similar('before')"
      ],
      "execution_count": 21,
      "outputs": [
        {
          "output_type": "stream",
          "text": [
            "/usr/local/lib/python3.6/dist-packages/gensim/matutils.py:737: FutureWarning: Conversion of the second argument of issubdtype from `int` to `np.signedinteger` is deprecated. In future, it will be treated as `np.int64 == np.dtype(int).type`.\n",
            "  if np.issubdtype(vec.dtype, np.int):\n"
          ],
          "name": "stderr"
        },
        {
          "output_type": "execute_result",
          "data": {
            "text/plain": [
              "[('after', 0.7583303451538086),\n",
              " ('Before', 0.6525088548660278),\n",
              " ('later', 0.6113136410713196),\n",
              " ('when', 0.5855079889297485),\n",
              " ('shortly', 0.582067608833313),\n",
              " ('prior', 0.5761102437973022),\n",
              " ('until', 0.566190242767334),\n",
              " ('then', 0.5548640489578247),\n",
              " ('After', 0.5400581359863281),\n",
              " ('last', 0.4965524971485138)]"
            ]
          },
          "metadata": {
            "tags": []
          },
          "execution_count": 21
        }
      ]
    },
    {
      "cell_type": "code",
      "metadata": {
        "id": "Y5rhziBcfykP",
        "colab_type": "code",
        "colab": {
          "base_uri": "https://localhost:8080/",
          "height": 245
        },
        "outputId": "0206e0cd-e7e8-4950-cfc9-27a59d717949"
      },
      "source": [
        "model.most_similar('agree')"
      ],
      "execution_count": 22,
      "outputs": [
        {
          "output_type": "stream",
          "text": [
            "/usr/local/lib/python3.6/dist-packages/gensim/matutils.py:737: FutureWarning: Conversion of the second argument of issubdtype from `int` to `np.signedinteger` is deprecated. In future, it will be treated as `np.int64 == np.dtype(int).type`.\n",
            "  if np.issubdtype(vec.dtype, np.int):\n"
          ],
          "name": "stderr"
        },
        {
          "output_type": "execute_result",
          "data": {
            "text/plain": [
              "[('disagree', 0.7711759209632874),\n",
              " ('concur', 0.7131549119949341),\n",
              " ('agrees', 0.5929451584815979),\n",
              " ('disagreed', 0.5711544156074524),\n",
              " ('Agree', 0.5635050535202026),\n",
              " ('disagreeing', 0.5525435209274292),\n",
              " ('agreed', 0.5445384383201599),\n",
              " ('insist', 0.5273953676223755),\n",
              " ('accept', 0.5188775062561035),\n",
              " ('sympathize', 0.5097719430923462)]"
            ]
          },
          "metadata": {
            "tags": []
          },
          "execution_count": 22
        }
      ]
    },
    {
      "cell_type": "markdown",
      "metadata": {
        "id": "3woYboRQldL7",
        "colab_type": "text"
      },
      "source": [
        "### GloVe"
      ]
    },
    {
      "cell_type": "code",
      "metadata": {
        "id": "G1IbBmmulhQy",
        "colab_type": "code",
        "colab": {
          "base_uri": "https://localhost:8080/",
          "height": 245
        },
        "outputId": "0b62b162-1453-4b8b-ad04-21b6d1c95396"
      },
      "source": [
        "model1.most_similar('increase')"
      ],
      "execution_count": 23,
      "outputs": [
        {
          "output_type": "stream",
          "text": [
            "/usr/local/lib/python3.6/dist-packages/gensim/matutils.py:737: FutureWarning: Conversion of the second argument of issubdtype from `int` to `np.signedinteger` is deprecated. In future, it will be treated as `np.int64 == np.dtype(int).type`.\n",
            "  if np.issubdtype(vec.dtype, np.int):\n"
          ],
          "name": "stderr"
        },
        {
          "output_type": "execute_result",
          "data": {
            "text/plain": [
              "[('increased', 0.9396798610687256),\n",
              " ('boost', 0.9143067598342896),\n",
              " ('growth', 0.9136716723442078),\n",
              " ('increasing', 0.9088935256004333),\n",
              " ('decrease', 0.9020586013793945),\n",
              " ('costs', 0.8986735343933105),\n",
              " ('decline', 0.8936024904251099),\n",
              " ('risk', 0.8911150097846985),\n",
              " ('debt', 0.8874548077583313),\n",
              " ('profit', 0.8826180100440979)]"
            ]
          },
          "metadata": {
            "tags": []
          },
          "execution_count": 23
        }
      ]
    },
    {
      "cell_type": "code",
      "metadata": {
        "id": "17EbHIJ5lkpK",
        "colab_type": "code",
        "colab": {
          "base_uri": "https://localhost:8080/",
          "height": 245
        },
        "outputId": "091ac183-36a5-43db-8ff0-526bdc32685f"
      },
      "source": [
        "model1.most_similar('above')"
      ],
      "execution_count": 24,
      "outputs": [
        {
          "output_type": "stream",
          "text": [
            "/usr/local/lib/python3.6/dist-packages/gensim/matutils.py:737: FutureWarning: Conversion of the second argument of issubdtype from `int` to `np.signedinteger` is deprecated. In future, it will be treated as `np.int64 == np.dtype(int).type`.\n",
            "  if np.issubdtype(vec.dtype, np.int):\n"
          ],
          "name": "stderr"
        },
        {
          "output_type": "execute_result",
          "data": {
            "text/plain": [
              "[('within', 0.9225873947143555),\n",
              " ('through', 0.9183578491210938),\n",
              " ('ground', 0.9041840434074402),\n",
              " ('closer', 0.9011828899383545),\n",
              " ('inside', 0.8932865262031555),\n",
              " ('stands', 0.891708254814148),\n",
              " ('clear', 0.8907409310340881),\n",
              " ('falling', 0.8897219896316528),\n",
              " ('between', 0.8897184729576111),\n",
              " ('towards', 0.8846611380577087)]"
            ]
          },
          "metadata": {
            "tags": []
          },
          "execution_count": 24
        }
      ]
    },
    {
      "cell_type": "code",
      "metadata": {
        "id": "HEK0WZJllkr6",
        "colab_type": "code",
        "colab": {
          "base_uri": "https://localhost:8080/",
          "height": 245
        },
        "outputId": "f8cb5383-eea7-4d65-fa63-abf61e35abd5"
      },
      "source": [
        "model1.most_similar('maximum')"
      ],
      "execution_count": 25,
      "outputs": [
        {
          "output_type": "stream",
          "text": [
            "/usr/local/lib/python3.6/dist-packages/gensim/matutils.py:737: FutureWarning: Conversion of the second argument of issubdtype from `int` to `np.signedinteger` is deprecated. In future, it will be treated as `np.int64 == np.dtype(int).type`.\n",
            "  if np.issubdtype(vec.dtype, np.int):\n"
          ],
          "name": "stderr"
        },
        {
          "output_type": "execute_result",
          "data": {
            "text/plain": [
              "[('impact', 0.8267736434936523),\n",
              " ('balance', 0.8258897066116333),\n",
              " ('continuous', 0.822946310043335),\n",
              " ('sentiment', 0.8205845952033997),\n",
              " ('significant', 0.8185640573501587),\n",
              " ('permanent', 0.808681309223175),\n",
              " ('obstacle', 0.8083568215370178),\n",
              " ('depth', 0.8060948848724365),\n",
              " ('minimum', 0.803694486618042),\n",
              " ('boost', 0.7995665073394775)]"
            ]
          },
          "metadata": {
            "tags": []
          },
          "execution_count": 25
        }
      ]
    },
    {
      "cell_type": "code",
      "metadata": {
        "id": "UADVobdMlkvN",
        "colab_type": "code",
        "colab": {
          "base_uri": "https://localhost:8080/",
          "height": 245
        },
        "outputId": "11c6182e-2184-49e9-92d6-87bfd38e38df"
      },
      "source": [
        "model1.most_similar('before')"
      ],
      "execution_count": 26,
      "outputs": [
        {
          "output_type": "stream",
          "text": [
            "/usr/local/lib/python3.6/dist-packages/gensim/matutils.py:737: FutureWarning: Conversion of the second argument of issubdtype from `int` to `np.signedinteger` is deprecated. In future, it will be treated as `np.int64 == np.dtype(int).type`.\n",
            "  if np.issubdtype(vec.dtype, np.int):\n"
          ],
          "name": "stderr"
        },
        {
          "output_type": "execute_result",
          "data": {
            "text/plain": [
              "[('until', 0.9726036190986633),\n",
              " ('after', 0.9658995270729065),\n",
              " ('goes', 0.9597133994102478),\n",
              " ('while', 0.9596750140190125),\n",
              " ('away', 0.95955890417099),\n",
              " ('waiting', 0.9583847522735596),\n",
              " ('out', 0.9493682384490967),\n",
              " ('going', 0.9485186338424683),\n",
              " ('again', 0.9485183954238892),\n",
              " ('coming', 0.946082592010498)]"
            ]
          },
          "metadata": {
            "tags": []
          },
          "execution_count": 26
        }
      ]
    },
    {
      "cell_type": "code",
      "metadata": {
        "id": "JnPVvSrQlk9N",
        "colab_type": "code",
        "colab": {
          "base_uri": "https://localhost:8080/",
          "height": 245
        },
        "outputId": "dfef6c4f-0b31-4b4e-bdc3-8548b732553b"
      },
      "source": [
        "model1.most_similar('agree')"
      ],
      "execution_count": 27,
      "outputs": [
        {
          "output_type": "stream",
          "text": [
            "/usr/local/lib/python3.6/dist-packages/gensim/matutils.py:737: FutureWarning: Conversion of the second argument of issubdtype from `int` to `np.signedinteger` is deprecated. In future, it will be treated as `np.int64 == np.dtype(int).type`.\n",
            "  if np.issubdtype(vec.dtype, np.int):\n"
          ],
          "name": "stderr"
        },
        {
          "output_type": "execute_result",
          "data": {
            "text/plain": [
              "[('should', 0.9189361929893494),\n",
              " ('must', 0.9177311062812805),\n",
              " ('surely', 0.9163580536842346),\n",
              " ('think', 0.9151894450187683),\n",
              " ('would', 0.9146677851676941),\n",
              " ('how', 0.9101889133453369),\n",
              " ('if', 0.9089272022247314),\n",
              " ('well', 0.9083027243614197),\n",
              " ('obviously', 0.9044593572616577),\n",
              " ('agreed', 0.9032773971557617)]"
            ]
          },
          "metadata": {
            "tags": []
          },
          "execution_count": 27
        }
      ]
    },
    {
      "cell_type": "markdown",
      "metadata": {
        "id": "FL7wn9pmhhFK",
        "colab_type": "text"
      },
      "source": [
        "# Problem 9:\n",
        "- Analogy set 1: Animals and their sounds"
      ]
    },
    {
      "cell_type": "code",
      "metadata": {
        "id": "xHIE2PgIoq2m",
        "colab_type": "code",
        "colab": {}
      },
      "source": [
        "set1_train=[['bats','screech','bees'],['crows','caw','ducks'],['owls','hoot','pigeons']]\n",
        "set1_target=['buzz','quack','coo']"
      ],
      "execution_count": 0,
      "outputs": []
    },
    {
      "cell_type": "code",
      "metadata": {
        "id": "BFRguUBchqWs",
        "colab_type": "code",
        "colab": {
          "base_uri": "https://localhost:8080/",
          "height": 72
        },
        "outputId": "a6c4d13e-a577-48d8-e707-8c5cd5b723bc"
      },
      "source": [
        "set1_pred=[]\n",
        "for i in range(len(set1_train)):\n",
        "    if set1_train[i][0] in model.vocab and set1_train[i][2] in model.vocab and set1_train[i][1] in model.vocab :\n",
        "        set1_pred.append(model.most_similar(positive=[set1_train[i][0], set1_train[i][2]], negative=[set1_train[i][1]], topn=1)[0][0])\n",
        "    else:\n",
        "        set1_pred.append('NO MATCHING PHRASE FOUND')"
      ],
      "execution_count": 29,
      "outputs": [
        {
          "output_type": "stream",
          "text": [
            "/usr/local/lib/python3.6/dist-packages/gensim/matutils.py:737: FutureWarning: Conversion of the second argument of issubdtype from `int` to `np.signedinteger` is deprecated. In future, it will be treated as `np.int64 == np.dtype(int).type`.\n",
            "  if np.issubdtype(vec.dtype, np.int):\n"
          ],
          "name": "stderr"
        }
      ]
    },
    {
      "cell_type": "code",
      "metadata": {
        "id": "d1qGqkHKqcig",
        "colab_type": "code",
        "colab": {
          "base_uri": "https://localhost:8080/",
          "height": 52
        },
        "outputId": "19de9e4d-9012-414d-e19e-ff5a4ab18c8b"
      },
      "source": [
        "correct_set1=0\n",
        "translator=str.maketrans('','',string.punctuation)\n",
        "for i in range(len(set1_target)):\n",
        "  a=set1_target[i]\n",
        "  b=set1_pred[i]\n",
        "  if a==b or a in b:\n",
        "      correct_set1+=1\n",
        "accuracy1=100*correct_set1/len(set1_pred)\n",
        "accuracy2=100*correct_set1/(len(set1_pred)-set1_pred.count('NO MATCHING PHRASE FOUND'))\n",
        "print(\"Accuracy1\",accuracy1)\n",
        "print(\"Accuracy2\",accuracy2)"
      ],
      "execution_count": 30,
      "outputs": [
        {
          "output_type": "stream",
          "text": [
            "Accuracy1 0.0\n",
            "Accuracy2 0.0\n"
          ],
          "name": "stdout"
        }
      ]
    },
    {
      "cell_type": "markdown",
      "metadata": {
        "id": "lhMV7DPcrCJa",
        "colab_type": "text"
      },
      "source": [
        "- Analogy set 2: Animals and their babies"
      ]
    },
    {
      "cell_type": "code",
      "metadata": {
        "id": "ZBqf4KNaq1yV",
        "colab_type": "code",
        "colab": {}
      },
      "source": [
        "set2_train=[['bear','cub','bee'],['cat','kitten','dog'],['chicken','chick','pig']]\n",
        "set2_target=['larva','puppy','piglet']"
      ],
      "execution_count": 0,
      "outputs": []
    },
    {
      "cell_type": "code",
      "metadata": {
        "id": "R9frTMx9rFUh",
        "colab_type": "code",
        "colab": {
          "base_uri": "https://localhost:8080/",
          "height": 72
        },
        "outputId": "6f7b0d71-8ee2-4040-a219-c6ec4d97945d"
      },
      "source": [
        "set2_pred=[]\n",
        "for i in range(len(set2_train)):\n",
        "    if set2_train[i][0] in model.vocab and set2_train[i][2] in model.vocab and set2_train[i][1] in model.vocab :\n",
        "        set2_pred.append(model.most_similar(positive=[set2_train[i][0], set2_train[i][2]], negative=[set2_train[i][1]], topn=1)[0][0])\n",
        "    else:\n",
        "        set2_pred.append('NO MATCHING PHRASE FOUND')"
      ],
      "execution_count": 32,
      "outputs": [
        {
          "output_type": "stream",
          "text": [
            "/usr/local/lib/python3.6/dist-packages/gensim/matutils.py:737: FutureWarning: Conversion of the second argument of issubdtype from `int` to `np.signedinteger` is deprecated. In future, it will be treated as `np.int64 == np.dtype(int).type`.\n",
            "  if np.issubdtype(vec.dtype, np.int):\n"
          ],
          "name": "stderr"
        }
      ]
    },
    {
      "cell_type": "code",
      "metadata": {
        "id": "58wfJiyNrPOt",
        "colab_type": "code",
        "colab": {
          "base_uri": "https://localhost:8080/",
          "height": 52
        },
        "outputId": "216baa25-d012-44a2-f754-de6556974266"
      },
      "source": [
        "correct_set2=0\n",
        "translator=str.maketrans('','',string.punctuation)\n",
        "for i in range(len(set2_target)):\n",
        "  a=set2_target[i]\n",
        "  b=set2_pred[i]\n",
        "  if a==b or a in b:\n",
        "      correct_set2+=1\n",
        "accuracy1=100*correct_set1/len(set2_pred)\n",
        "accuracy2=100*correct_set1/(len(set2_pred)-set2_pred.count('NO MATCHING PHRASE FOUND'))\n",
        "print(\"Accuracy1\",accuracy1)\n",
        "print(\"Accuracy2\",accuracy2)"
      ],
      "execution_count": 33,
      "outputs": [
        {
          "output_type": "stream",
          "text": [
            "Accuracy1 0.0\n",
            "Accuracy2 0.0\n"
          ],
          "name": "stdout"
        }
      ]
    },
    {
      "cell_type": "markdown",
      "metadata": {
        "id": "RgAIOYBYrcZd",
        "colab_type": "text"
      },
      "source": [
        "### The accuracies in both the case is 0 which means that the model has to be trained on a large data. Depending upon the analogies to be found, special text processing can also be carried out."
      ]
    },
    {
      "cell_type": "markdown",
      "metadata": {
        "id": "vcdxg1tbkFbm",
        "colab_type": "text"
      },
      "source": [
        "### References\n",
        "\n",
        "[1] http://www.fit.vutbr.cz/~imikolov/rnnlm/word-test.v1.txt\n",
        "\n",
        "[2]  Word2vec: https://code.google.com/archive/p/word2vec/\n",
        "\n",
        "[3] https://radimrehurek.com/gensim/models/word2vec.html\n",
        "\n",
        "[4] GloVe: http://nlp.stanford.edu/projects/glove/"
      ]
    }
  ]
}